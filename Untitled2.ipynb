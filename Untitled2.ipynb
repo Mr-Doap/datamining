{
 "cells": [
  {
   "cell_type": "code",
   "execution_count": 21,
   "metadata": {},
   "outputs": [],
   "source": [
    "import sklearn as sk\n",
    "import pandas as pd\n",
    "from sklearn.linear_model import LogisticRegression as LR\n",
    "from sklearn.feature_extraction.text import TfidfVectorizer\n",
    "from scipy.stats import norm\n",
    "from sklearn.metrics.pairwise import cosine_similarity as cosine\n",
    "import random\n",
    "from sklearn.model_selection import train_test_split\n",
    "from sklearn.metrics import classification_report"
   ]
  },
  {
   "cell_type": "code",
   "execution_count": 2,
   "metadata": {},
   "outputs": [],
   "source": [
    "def diff_gaussian(year1, year2, var=3.408):\n",
    "    return norm(0,var).pdf(abs(year2-year1))*(1/norm(0,var).pdf(0))"
   ]
  },
  {
   "cell_type": "code",
   "execution_count": 3,
   "metadata": {},
   "outputs": [],
   "source": [
    "data = pd.read_csv('~/datamining/DBLP_labeled_data .tsv', sep='\\t')"
   ]
  },
  {
   "cell_type": "code",
   "execution_count": 4,
   "metadata": {},
   "outputs": [
    {
     "data": {
      "text/html": [
       "<div>\n",
       "<style scoped>\n",
       "    .dataframe tbody tr th:only-of-type {\n",
       "        vertical-align: middle;\n",
       "    }\n",
       "\n",
       "    .dataframe tbody tr th {\n",
       "        vertical-align: top;\n",
       "    }\n",
       "\n",
       "    .dataframe thead th {\n",
       "        text-align: right;\n",
       "    }\n",
       "</style>\n",
       "<table border=\"1\" class=\"dataframe\">\n",
       "  <thead>\n",
       "    <tr style=\"text-align: right;\">\n",
       "      <th></th>\n",
       "      <th>Author name</th>\n",
       "      <th>Unique Author ID</th>\n",
       "      <th>Paper ID</th>\n",
       "      <th>Coauthors</th>\n",
       "      <th>Year</th>\n",
       "      <th>Venue</th>\n",
       "      <th>Title</th>\n",
       "    </tr>\n",
       "  </thead>\n",
       "  <tbody>\n",
       "    <tr>\n",
       "      <th>0</th>\n",
       "      <td>ajay k. gupta</td>\n",
       "      <td>agupta-10</td>\n",
       "      <td>1543</td>\n",
       "      <td>ajay k. gupta|kurt maly|irwin b. levinstein|ra...</td>\n",
       "      <td>1996</td>\n",
       "      <td>ifip world conference on it tools</td>\n",
       "      <td>pme privileg mangag enforc system secur distri...</td>\n",
       "    </tr>\n",
       "    <tr>\n",
       "      <th>1</th>\n",
       "      <td>ajay k. gupta</td>\n",
       "      <td>agupta-10</td>\n",
       "      <td>2598</td>\n",
       "      <td>ajay k. gupta|kurt maly|hussein m. abdel-wahab...</td>\n",
       "      <td>1997</td>\n",
       "      <td>webnet</td>\n",
       "      <td>coprocess java base environ collabor process m...</td>\n",
       "    </tr>\n",
       "    <tr>\n",
       "      <th>2</th>\n",
       "      <td>ajay k. gupta</td>\n",
       "      <td>agupta-10</td>\n",
       "      <td>2613</td>\n",
       "      <td>ajay k. gupta|kurt maly|bjorn kvande|irwin b. ...</td>\n",
       "      <td>1996</td>\n",
       "      <td>wetice</td>\n",
       "      <td>privileg manag enforc system distribut resourc...</td>\n",
       "    </tr>\n",
       "    <tr>\n",
       "      <th>3</th>\n",
       "      <td>ajay k. gupta</td>\n",
       "      <td>agupta-10</td>\n",
       "      <td>2610</td>\n",
       "      <td>ajay k. gupta|hussein m. abdel-wahab|kurt maly...</td>\n",
       "      <td>1996</td>\n",
       "      <td>wetice</td>\n",
       "      <td>softwar architectur interprocess commun iri in...</td>\n",
       "    </tr>\n",
       "    <tr>\n",
       "      <th>4</th>\n",
       "      <td>ajay k. gupta</td>\n",
       "      <td>agupta-10</td>\n",
       "      <td>2872</td>\n",
       "      <td>ajay k. gupta|kurt maly|hussein m. abdel-wahab...</td>\n",
       "      <td>1995</td>\n",
       "      <td>computer networks and isdn systems</td>\n",
       "      <td>mosaic xtv coreview</td>\n",
       "    </tr>\n",
       "  </tbody>\n",
       "</table>\n",
       "</div>"
      ],
      "text/plain": [
       "     Author name Unique Author ID  Paper ID  \\\n",
       "0  ajay k. gupta        agupta-10      1543   \n",
       "1  ajay k. gupta        agupta-10      2598   \n",
       "2  ajay k. gupta        agupta-10      2613   \n",
       "3  ajay k. gupta        agupta-10      2610   \n",
       "4  ajay k. gupta        agupta-10      2872   \n",
       "\n",
       "                                           Coauthors  Year  \\\n",
       "0  ajay k. gupta|kurt maly|irwin b. levinstein|ra...  1996   \n",
       "1  ajay k. gupta|kurt maly|hussein m. abdel-wahab...  1997   \n",
       "2  ajay k. gupta|kurt maly|bjorn kvande|irwin b. ...  1996   \n",
       "3  ajay k. gupta|hussein m. abdel-wahab|kurt maly...  1996   \n",
       "4  ajay k. gupta|kurt maly|hussein m. abdel-wahab...  1995   \n",
       "\n",
       "                                Venue  \\\n",
       "0   ifip world conference on it tools   \n",
       "1                              webnet   \n",
       "2                              wetice   \n",
       "3                              wetice   \n",
       "4  computer networks and isdn systems   \n",
       "\n",
       "                                               Title  \n",
       "0  pme privileg mangag enforc system secur distri...  \n",
       "1  coprocess java base environ collabor process m...  \n",
       "2  privileg manag enforc system distribut resourc...  \n",
       "3  softwar architectur interprocess commun iri in...  \n",
       "4                                mosaic xtv coreview  "
      ]
     },
     "execution_count": 4,
     "metadata": {},
     "output_type": "execute_result"
    }
   ],
   "source": [
    "data.head()"
   ]
  },
  {
   "cell_type": "code",
   "execution_count": 5,
   "metadata": {},
   "outputs": [],
   "source": [
    "title_list = [i for i in data[\"Title\"]]"
   ]
  },
  {
   "cell_type": "code",
   "execution_count": 6,
   "metadata": {},
   "outputs": [],
   "source": [
    "vectorizer = TfidfVectorizer()"
   ]
  },
  {
   "cell_type": "code",
   "execution_count": 7,
   "metadata": {},
   "outputs": [],
   "source": [
    "title_vectors = vectorizer.fit_transform(title_list)"
   ]
  },
  {
   "cell_type": "code",
   "execution_count": 8,
   "metadata": {},
   "outputs": [
    {
     "name": "stdout",
     "output_type": "stream",
     "text": [
      "  (0, 2846)\t0.26054009235401854\n",
      "  (0, 2665)\t0.2805216177531512\n",
      "  (0, 884)\t0.20430256436375643\n",
      "  (0, 2802)\t0.2774081295584946\n",
      "  (0, 3113)\t0.1524187244889741\n",
      "  (0, 999)\t0.40088171371412695\n",
      "  (0, 1812)\t0.43504035700237015\n",
      "  (0, 2439)\t0.41505883160323753\n",
      "  (0, 2357)\t0.43504035700237015\n"
     ]
    }
   ],
   "source": [
    "print(title_vectors[0])"
   ]
  },
  {
   "cell_type": "code",
   "execution_count": 9,
   "metadata": {},
   "outputs": [],
   "source": [
    "venue_list = [i for i in data[\"Venue\"]]"
   ]
  },
  {
   "cell_type": "code",
   "execution_count": 10,
   "metadata": {},
   "outputs": [
    {
     "data": {
      "text/plain": [
       "'ifip world conference on it tools'"
      ]
     },
     "execution_count": 10,
     "metadata": {},
     "output_type": "execute_result"
    }
   ],
   "source": [
    "venue_list[0]"
   ]
  },
  {
   "cell_type": "code",
   "execution_count": 11,
   "metadata": {},
   "outputs": [],
   "source": [
    "venue_vectors = vectorizer.fit_transform(venue_list)"
   ]
  },
  {
   "cell_type": "code",
   "execution_count": 12,
   "metadata": {},
   "outputs": [
    {
     "name": "stdout",
     "output_type": "stream",
     "text": [
      "  (0, 902)\t0.3976181502067804\n",
      "  (0, 525)\t0.5208270698540904\n",
      "  (0, 672)\t0.2693809335040437\n",
      "  (0, 159)\t0.271173479694462\n",
      "  (0, 975)\t0.46843142967163187\n",
      "  (0, 445)\t0.4528905190043382\n"
     ]
    }
   ],
   "source": [
    "print(venue_vectors[0])"
   ]
  },
  {
   "cell_type": "code",
   "execution_count": 13,
   "metadata": {},
   "outputs": [],
   "source": [
    "author_list = [i for i in data[\"Coauthors\"]]"
   ]
  },
  {
   "cell_type": "code",
   "execution_count": 14,
   "metadata": {},
   "outputs": [],
   "source": [
    "author_list = [i.replace('|',' ') for i in author_list]"
   ]
  },
  {
   "cell_type": "code",
   "execution_count": 15,
   "metadata": {},
   "outputs": [],
   "source": [
    "author_list = [i.replace('.','') for i in author_list]"
   ]
  },
  {
   "cell_type": "code",
   "execution_count": 16,
   "metadata": {},
   "outputs": [
    {
     "data": {
      "text/plain": [
       "'ajay k gupta kurt maly irwin b levinstein ravi mukkamala bjorn kvande s nanjangud margrethe h olson roy whitney rita chambers'"
      ]
     },
     "execution_count": 16,
     "metadata": {},
     "output_type": "execute_result"
    }
   ],
   "source": [
    "author_list[0]"
   ]
  },
  {
   "cell_type": "code",
   "execution_count": 17,
   "metadata": {},
   "outputs": [],
   "source": [
    "author_vectors = vectorizer.fit_transform(author_list)"
   ]
  },
  {
   "cell_type": "code",
   "execution_count": 18,
   "metadata": {},
   "outputs": [
    {
     "name": "stdout",
     "output_type": "stream",
     "text": [
      "0\n",
      "100\n",
      "200\n",
      "300\n",
      "400\n",
      "500\n",
      "600\n",
      "700\n",
      "800\n",
      "900\n"
     ]
    }
   ],
   "source": [
    "X = []\n",
    "y = []\n",
    "for i in range(1000):\n",
    "    if i%100==0:\n",
    "            print(i)\n",
    "    for j in range(i):\n",
    "        if data.loc[i,\"Unique Author ID\"] == data.loc[j, \"Unique Author ID\"]:\n",
    "            y.append(1)\n",
    "        else:\n",
    "            y.append(0)\n",
    "        similarity_vector = []\n",
    "        similarity_vector.append(cosine(author_vectors[i], author_vectors[j])[0][0])\n",
    "        similarity_vector.append(cosine(title_vectors[i], title_vectors[j])[0][0])\n",
    "        similarity_vector.append(cosine(venue_vectors[i], venue_vectors[j])[0][0])\n",
    "        similarity_vector.append(diff_gaussian(data[\"Year\"][i], data[\"Year\"][j]))\n",
    "        X.append(similarity_vector)"
   ]
  },
  {
   "cell_type": "code",
   "execution_count": 33,
   "metadata": {},
   "outputs": [
    {
     "name": "stderr",
     "output_type": "stream",
     "text": [
      "/home/sairamana/FOML/lib/python3.6/site-packages/sklearn/linear_model/logistic.py:1544: UserWarning: 'n_jobs' > 1 does not have any effect when 'solver' is set to 'liblinear'. Got 'n_jobs' = 2.\n",
      "  \" = {}.\".format(effective_n_jobs(self.n_jobs)))\n"
     ]
    },
    {
     "name": "stdout",
     "output_type": "stream",
     "text": [
      "              precision    recall  f1-score   support\n",
      "\n",
      "           0       0.98      0.99      0.99     96385\n",
      "           1       0.76      0.49      0.59      3515\n",
      "\n",
      "    accuracy                           0.98     99900\n",
      "   macro avg       0.87      0.74      0.79     99900\n",
      "weighted avg       0.97      0.98      0.97     99900\n",
      "\n"
     ]
    }
   ],
   "source": [
    "X_train, X_test, y_train, y_test = train_test_split(X, y, test_size=0.2, random_state=51)\n",
    "clf = LR(solver='liblinear', penalty='l1', multi_class='ovr', n_jobs=2)\n",
    "clf.fit(X_train, y_train)\n",
    "y_ans = clf.predict(X_test)\n",
    "print(classification_report(y_test, y_ans))"
   ]
  },
  {
   "cell_type": "code",
   "execution_count": 36,
   "metadata": {},
   "outputs": [],
   "source": [
    "X_0 = [[i[1],i[2],i[3]] for i in X]"
   ]
  },
  {
   "cell_type": "code",
   "execution_count": 38,
   "metadata": {},
   "outputs": [],
   "source": [
    "X_1 = [[i[0],i[2],i[3]] for i in X]"
   ]
  },
  {
   "cell_type": "code",
   "execution_count": 39,
   "metadata": {},
   "outputs": [],
   "source": [
    "X_2 = [[i[0],i[1],i[3]] for i in X]"
   ]
  },
  {
   "cell_type": "code",
   "execution_count": 40,
   "metadata": {},
   "outputs": [],
   "source": [
    "X_3 = [[i[0],i[1],i[2]] for i in X]"
   ]
  },
  {
   "cell_type": "code",
   "execution_count": 41,
   "metadata": {},
   "outputs": [
    {
     "name": "stderr",
     "output_type": "stream",
     "text": [
      "/home/sairamana/FOML/lib/python3.6/site-packages/sklearn/linear_model/logistic.py:1544: UserWarning: 'n_jobs' > 1 does not have any effect when 'solver' is set to 'liblinear'. Got 'n_jobs' = 2.\n",
      "  \" = {}.\".format(effective_n_jobs(self.n_jobs)))\n"
     ]
    },
    {
     "name": "stdout",
     "output_type": "stream",
     "text": [
      "              precision    recall  f1-score   support\n",
      "\n",
      "           0       0.97      1.00      0.98     96385\n",
      "           1       0.65      0.06      0.10      3515\n",
      "\n",
      "    accuracy                           0.97     99900\n",
      "   macro avg       0.81      0.53      0.54     99900\n",
      "weighted avg       0.96      0.97      0.95     99900\n",
      "\n"
     ]
    }
   ],
   "source": [
    "X_train, X_test, y_train, y_test = train_test_split(X_0, y, test_size=0.2, random_state=51)\n",
    "clf = LR(solver='liblinear', penalty='l1', multi_class='ovr', n_jobs=2)\n",
    "clf.fit(X_train, y_train)\n",
    "y_ans = clf.predict(X_test)\n",
    "print(classification_report(y_test, y_ans))"
   ]
  },
  {
   "cell_type": "code",
   "execution_count": 42,
   "metadata": {},
   "outputs": [
    {
     "name": "stderr",
     "output_type": "stream",
     "text": [
      "/home/sairamana/FOML/lib/python3.6/site-packages/sklearn/linear_model/logistic.py:1544: UserWarning: 'n_jobs' > 1 does not have any effect when 'solver' is set to 'liblinear'. Got 'n_jobs' = 2.\n",
      "  \" = {}.\".format(effective_n_jobs(self.n_jobs)))\n"
     ]
    },
    {
     "name": "stdout",
     "output_type": "stream",
     "text": [
      "              precision    recall  f1-score   support\n",
      "\n",
      "           0       0.98      0.99      0.99     96385\n",
      "           1       0.74      0.47      0.58      3515\n",
      "\n",
      "    accuracy                           0.98     99900\n",
      "   macro avg       0.86      0.73      0.78     99900\n",
      "weighted avg       0.97      0.98      0.97     99900\n",
      "\n"
     ]
    }
   ],
   "source": [
    "X_train, X_test, y_train, y_test = train_test_split(X_1, y, test_size=0.2, random_state=51)\n",
    "clf = LR(solver='liblinear', penalty='l1', multi_class='ovr', n_jobs=2)\n",
    "clf.fit(X_train, y_train)\n",
    "y_ans = clf.predict(X_test)\n",
    "print(classification_report(y_test, y_ans))"
   ]
  },
  {
   "cell_type": "code",
   "execution_count": 43,
   "metadata": {},
   "outputs": [
    {
     "name": "stderr",
     "output_type": "stream",
     "text": [
      "/home/sairamana/FOML/lib/python3.6/site-packages/sklearn/linear_model/logistic.py:1544: UserWarning: 'n_jobs' > 1 does not have any effect when 'solver' is set to 'liblinear'. Got 'n_jobs' = 2.\n",
      "  \" = {}.\".format(effective_n_jobs(self.n_jobs)))\n"
     ]
    },
    {
     "name": "stdout",
     "output_type": "stream",
     "text": [
      "              precision    recall  f1-score   support\n",
      "\n",
      "           0       0.98      0.99      0.99     96385\n",
      "           1       0.76      0.49      0.59      3515\n",
      "\n",
      "    accuracy                           0.98     99900\n",
      "   macro avg       0.87      0.74      0.79     99900\n",
      "weighted avg       0.97      0.98      0.97     99900\n",
      "\n"
     ]
    }
   ],
   "source": [
    "X_train, X_test, y_train, y_test = train_test_split(X_2, y, test_size=0.2, random_state=51)\n",
    "clf = LR(solver='liblinear', penalty='l1', multi_class='ovr', n_jobs=2)\n",
    "clf.fit(X_train, y_train)\n",
    "y_ans = clf.predict(X_test)\n",
    "print(classification_report(y_test, y_ans))"
   ]
  },
  {
   "cell_type": "code",
   "execution_count": 44,
   "metadata": {},
   "outputs": [
    {
     "name": "stderr",
     "output_type": "stream",
     "text": [
      "/home/sairamana/FOML/lib/python3.6/site-packages/sklearn/linear_model/logistic.py:1544: UserWarning: 'n_jobs' > 1 does not have any effect when 'solver' is set to 'liblinear'. Got 'n_jobs' = 2.\n",
      "  \" = {}.\".format(effective_n_jobs(self.n_jobs)))\n"
     ]
    },
    {
     "name": "stdout",
     "output_type": "stream",
     "text": [
      "              precision    recall  f1-score   support\n",
      "\n",
      "           0       0.98      0.99      0.99     96385\n",
      "           1       0.76      0.49      0.59      3515\n",
      "\n",
      "    accuracy                           0.98     99900\n",
      "   macro avg       0.87      0.74      0.79     99900\n",
      "weighted avg       0.97      0.98      0.97     99900\n",
      "\n"
     ]
    }
   ],
   "source": [
    "X_train, X_test, y_train, y_test = train_test_split(X_3, y, test_size=0.2, random_state=51)\n",
    "clf = LR(solver='liblinear', penalty='l1', multi_class='ovr', n_jobs=2)\n",
    "clf.fit(X_train, y_train)\n",
    "y_ans = clf.predict(X_test)\n",
    "print(classification_report(y_test, y_ans))"
   ]
  },
  {
   "cell_type": "code",
   "execution_count": 85,
   "metadata": {},
   "outputs": [],
   "source": [
    "def check_venue(u,v):\n",
    "\tif data.loc[u,\"Venue\"]==data.loc[v,\"Venue\"]:\n",
    "\t\treturn True\n",
    "\treturn False\n",
    "\n",
    "def check_coauthors(u,v):\n",
    "\tu_co=data.loc[u,\"Coauthors\"]\n",
    "\tv_co=data.loc[v,\"Coauthors\"]\n",
    "\tfor i in u_co:\n",
    "\t\tif i not in v_co:\n",
    "\t\t\treturn False\n",
    "\treturn True\n",
    "\n",
    "def check_name(u,v):\n",
    "\tu_author=data.loc[u,\"Author name\"]\n",
    "\tv_author=data.loc[v,\"Author name\"]\n",
    "\treturn u_author==v_author\n",
    "\n",
    "def isPositive(u,v):\n",
    "    if check_venue(u,v) and check_coauthors(u,v) and check_name(u,v):\n",
    "        return True\n",
    "    return False\n",
    "\n",
    "def Find(par,u):\n",
    "    if par[u]==u:\n",
    "        return u\n",
    "    par[u]=Find(par,par[u])\n",
    "    return par[u]\n",
    "\n",
    "def Union(par,u,v):\n",
    "\tu=Find(par,u)\n",
    "\tv=Find(par,v)\n",
    "\tif u!=v:\n",
    "\t\tpar[u]=v\n",
    "\n",
    "new_y=[]\n",
    "par=[i for i in range(1000)]\n",
    "for i in range(1000):\n",
    "    for j in range(i):\n",
    "        if isPositive(i,j):\n",
    "            Union(par,i,j)\n",
    "\n",
    "neg=[]\n",
    "index=0\n",
    "n=0\n",
    "for i in range(1000):\n",
    "    for j in range(i):\n",
    "        if Find(par,i)==Find(par,j):\n",
    "            new_y.append(1)\n",
    "        else:\n",
    "            n+=1\n",
    "            new_y.append(0)\n",
    "\n",
    "p=len(new_y)-n\n",
    "extra=0\n",
    "if n>p:\n",
    "    extra=n-p"
   ]
  },
  {
   "cell_type": "code",
   "execution_count": 89,
   "metadata": {},
   "outputs": [
    {
     "name": "stdout",
     "output_type": "stream",
     "text": [
      "249949\n"
     ]
    }
   ],
   "source": [
    "#print(p,n)\n",
    "#print(extra)\n",
    "X_new = []\n",
    "y_new=[]\n",
    "print(len(X))\n",
    "for i in range(len(X)):\n",
    "    if new_y[i]==0 and extra!=0:\n",
    "        extra-=1\n",
    "    elif new_y[i]==0:\n",
    "        y_new.append(0)\n",
    "        X_new.append(X[i])\n",
    "    else:\n",
    "        y_new.append(1)\n",
    "        X_new.append(X[i])"
   ]
  },
  {
   "cell_type": "code",
   "execution_count": 80,
   "metadata": {},
   "outputs": [
    {
     "data": {
      "text/plain": [
       "(397, 0)"
      ]
     },
     "execution_count": 80,
     "metadata": {},
     "output_type": "execute_result"
    }
   ],
   "source": [
    "y_new.count(1),y_new.count(0)"
   ]
  },
  {
   "cell_type": "code",
   "execution_count": 71,
   "metadata": {},
   "outputs": [
    {
     "name": "stdout",
     "output_type": "stream",
     "text": [
      "              precision    recall  f1-score   support\n",
      "\n",
      "           0       1.00      1.00      1.00     99808\n",
      "           1       0.64      0.48      0.55        92\n",
      "\n",
      "    accuracy                           1.00     99900\n",
      "   macro avg       0.82      0.74      0.77     99900\n",
      "weighted avg       1.00      1.00      1.00     99900\n",
      "\n"
     ]
    }
   ],
   "source": [
    "X_train, X_test, y_train, y_test = train_test_split(X, new_y, test_size=0.2, random_state=51)\n",
    "clf = LR(solver='liblinear', penalty='l1', multi_class='ovr')\n",
    "clf.fit(X_train, y_train)\n",
    "y_ans = clf.predict(X_test)\n",
    "print(classification_report(y_test, y_ans))"
   ]
  },
  {
   "cell_type": "code",
   "execution_count": 73,
   "metadata": {},
   "outputs": [
    {
     "data": {
      "text/plain": [
       "0.9992692692692693"
      ]
     },
     "execution_count": 73,
     "metadata": {},
     "output_type": "execute_result"
    }
   ],
   "source": [
    "for i in range(1000):\n",
    "    if i%100==0:\n",
    "            print(i)\n",
    "    for j in range(i):\n",
    "        if data.loc[i,\"Unique Author ID\"] == data.loc[j, \"Unique Author ID\"]:\n",
    "            y.append(1)\n",
    "        else:\n",
    "            y.append(0)"
   ]
  }
 ],
 "metadata": {
  "kernelspec": {
   "display_name": "FOML",
   "language": "python",
   "name": "foml"
  },
  "language_info": {
   "codemirror_mode": {
    "name": "ipython",
    "version": 3
   },
   "file_extension": ".py",
   "mimetype": "text/x-python",
   "name": "python",
   "nbconvert_exporter": "python",
   "pygments_lexer": "ipython3",
   "version": "3.6.8"
  }
 },
 "nbformat": 4,
 "nbformat_minor": 4
}
