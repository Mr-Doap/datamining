{
 "cells": [
  {
   "cell_type": "code",
   "execution_count": 48,
   "metadata": {},
   "outputs": [],
   "source": [
    "import sklearn as sk\n",
    "import pandas as pd\n",
    "from sklearn.linear_model import LogisticRegression as LR\n",
    "from sklearn.feature_extraction.text import TfidfVectorizer\n",
    "from scipy.stats import norm\n",
    "from sklearn.metrics.pairwise import cosine_similarity as cosine"
   ]
  },
  {
   "cell_type": "code",
   "execution_count": 59,
   "metadata": {},
   "outputs": [],
   "source": [
    "def diff_gaussian(year1, year2, var=3.408):\n",
    "    return norm(0,var).pdf(abs(year2-year1))*(1/norm(0,var).pdf(0))"
   ]
  },
  {
   "cell_type": "code",
   "execution_count": 11,
   "metadata": {},
   "outputs": [],
   "source": [
    "data = pd.read_csv('~/datamining/DBLP_labeled_data .tsv', sep='\\t')"
   ]
  },
  {
   "cell_type": "code",
   "execution_count": 13,
   "metadata": {},
   "outputs": [
    {
     "data": {
      "text/html": [
       "<div>\n",
       "<style scoped>\n",
       "    .dataframe tbody tr th:only-of-type {\n",
       "        vertical-align: middle;\n",
       "    }\n",
       "\n",
       "    .dataframe tbody tr th {\n",
       "        vertical-align: top;\n",
       "    }\n",
       "\n",
       "    .dataframe thead th {\n",
       "        text-align: right;\n",
       "    }\n",
       "</style>\n",
       "<table border=\"1\" class=\"dataframe\">\n",
       "  <thead>\n",
       "    <tr style=\"text-align: right;\">\n",
       "      <th></th>\n",
       "      <th>Author name</th>\n",
       "      <th>Unique Author ID</th>\n",
       "      <th>Paper ID</th>\n",
       "      <th>Coauthors</th>\n",
       "      <th>Year</th>\n",
       "      <th>Venue</th>\n",
       "      <th>Title</th>\n",
       "    </tr>\n",
       "  </thead>\n",
       "  <tbody>\n",
       "    <tr>\n",
       "      <th>0</th>\n",
       "      <td>ajay k. gupta</td>\n",
       "      <td>agupta-10</td>\n",
       "      <td>1543</td>\n",
       "      <td>ajay k. gupta|kurt maly|irwin b. levinstein|ra...</td>\n",
       "      <td>1996</td>\n",
       "      <td>ifip world conference on it tools</td>\n",
       "      <td>pme privileg mangag enforc system secur distri...</td>\n",
       "    </tr>\n",
       "    <tr>\n",
       "      <th>1</th>\n",
       "      <td>ajay k. gupta</td>\n",
       "      <td>agupta-10</td>\n",
       "      <td>2598</td>\n",
       "      <td>ajay k. gupta|kurt maly|hussein m. abdel-wahab...</td>\n",
       "      <td>1997</td>\n",
       "      <td>webnet</td>\n",
       "      <td>coprocess java base environ collabor process m...</td>\n",
       "    </tr>\n",
       "    <tr>\n",
       "      <th>2</th>\n",
       "      <td>ajay k. gupta</td>\n",
       "      <td>agupta-10</td>\n",
       "      <td>2613</td>\n",
       "      <td>ajay k. gupta|kurt maly|bjorn kvande|irwin b. ...</td>\n",
       "      <td>1996</td>\n",
       "      <td>wetice</td>\n",
       "      <td>privileg manag enforc system distribut resourc...</td>\n",
       "    </tr>\n",
       "    <tr>\n",
       "      <th>3</th>\n",
       "      <td>ajay k. gupta</td>\n",
       "      <td>agupta-10</td>\n",
       "      <td>2610</td>\n",
       "      <td>ajay k. gupta|hussein m. abdel-wahab|kurt maly...</td>\n",
       "      <td>1996</td>\n",
       "      <td>wetice</td>\n",
       "      <td>softwar architectur interprocess commun iri in...</td>\n",
       "    </tr>\n",
       "    <tr>\n",
       "      <th>4</th>\n",
       "      <td>ajay k. gupta</td>\n",
       "      <td>agupta-10</td>\n",
       "      <td>2872</td>\n",
       "      <td>ajay k. gupta|kurt maly|hussein m. abdel-wahab...</td>\n",
       "      <td>1995</td>\n",
       "      <td>computer networks and isdn systems</td>\n",
       "      <td>mosaic xtv coreview</td>\n",
       "    </tr>\n",
       "  </tbody>\n",
       "</table>\n",
       "</div>"
      ],
      "text/plain": [
       "     Author name Unique Author ID  Paper ID  \\\n",
       "0  ajay k. gupta        agupta-10      1543   \n",
       "1  ajay k. gupta        agupta-10      2598   \n",
       "2  ajay k. gupta        agupta-10      2613   \n",
       "3  ajay k. gupta        agupta-10      2610   \n",
       "4  ajay k. gupta        agupta-10      2872   \n",
       "\n",
       "                                           Coauthors  Year  \\\n",
       "0  ajay k. gupta|kurt maly|irwin b. levinstein|ra...  1996   \n",
       "1  ajay k. gupta|kurt maly|hussein m. abdel-wahab...  1997   \n",
       "2  ajay k. gupta|kurt maly|bjorn kvande|irwin b. ...  1996   \n",
       "3  ajay k. gupta|hussein m. abdel-wahab|kurt maly...  1996   \n",
       "4  ajay k. gupta|kurt maly|hussein m. abdel-wahab...  1995   \n",
       "\n",
       "                                Venue  \\\n",
       "0   ifip world conference on it tools   \n",
       "1                              webnet   \n",
       "2                              wetice   \n",
       "3                              wetice   \n",
       "4  computer networks and isdn systems   \n",
       "\n",
       "                                               Title  \n",
       "0  pme privileg mangag enforc system secur distri...  \n",
       "1  coprocess java base environ collabor process m...  \n",
       "2  privileg manag enforc system distribut resourc...  \n",
       "3  softwar architectur interprocess commun iri in...  \n",
       "4                                mosaic xtv coreview  "
      ]
     },
     "execution_count": 13,
     "metadata": {},
     "output_type": "execute_result"
    }
   ],
   "source": [
    "data.head()"
   ]
  },
  {
   "cell_type": "code",
   "execution_count": 14,
   "metadata": {},
   "outputs": [],
   "source": [
    "title_list = [i for i in data[\"Title\"]]"
   ]
  },
  {
   "cell_type": "code",
   "execution_count": 18,
   "metadata": {},
   "outputs": [],
   "source": [
    "vectorizer = TfidfVectorizer()"
   ]
  },
  {
   "cell_type": "code",
   "execution_count": 24,
   "metadata": {},
   "outputs": [],
   "source": [
    "title_vectors = vectorizer.fit_transform(title_list)"
   ]
  },
  {
   "cell_type": "code",
   "execution_count": 32,
   "metadata": {},
   "outputs": [
    {
     "name": "stdout",
     "output_type": "stream",
     "text": [
      "  (0, 2846)\t0.26054009235401854\n",
      "  (0, 2665)\t0.2805216177531512\n",
      "  (0, 884)\t0.20430256436375643\n",
      "  (0, 2802)\t0.2774081295584946\n",
      "  (0, 3113)\t0.1524187244889741\n",
      "  (0, 999)\t0.40088171371412695\n",
      "  (0, 1812)\t0.43504035700237015\n",
      "  (0, 2439)\t0.41505883160323753\n",
      "  (0, 2357)\t0.43504035700237015\n"
     ]
    }
   ],
   "source": [
    "#print(title_vectors[0])"
   ]
  },
  {
   "cell_type": "code",
   "execution_count": 27,
   "metadata": {},
   "outputs": [],
   "source": [
    "venue_list = [i for i in data[\"Venue\"]]"
   ]
  },
  {
   "cell_type": "code",
   "execution_count": 28,
   "metadata": {},
   "outputs": [
    {
     "data": {
      "text/plain": [
       "'ifip world conference on it tools'"
      ]
     },
     "execution_count": 28,
     "metadata": {},
     "output_type": "execute_result"
    }
   ],
   "source": [
    "venue_list[0]"
   ]
  },
  {
   "cell_type": "code",
   "execution_count": 29,
   "metadata": {},
   "outputs": [],
   "source": [
    "venue_vectors = vectorizer.fit_transform(venue_list)"
   ]
  },
  {
   "cell_type": "code",
   "execution_count": 33,
   "metadata": {},
   "outputs": [
    {
     "name": "stdout",
     "output_type": "stream",
     "text": [
      "  (0, 902)\t0.3976181502067804\n",
      "  (0, 525)\t0.5208270698540904\n",
      "  (0, 672)\t0.2693809335040437\n",
      "  (0, 159)\t0.271173479694462\n",
      "  (0, 975)\t0.46843142967163187\n",
      "  (0, 445)\t0.4528905190043382\n"
     ]
    }
   ],
   "source": [
    "#print(venue_vectors[0])"
   ]
  },
  {
   "cell_type": "code",
   "execution_count": 34,
   "metadata": {},
   "outputs": [],
   "source": [
    "author_list = [i for i in data[\"Coauthors\"]]"
   ]
  },
  {
   "cell_type": "code",
   "execution_count": 40,
   "metadata": {},
   "outputs": [],
   "source": [
    "author_list = [i.replace('|',' ') for i in author_list]\n",
    "author_list = [i.replace('.','') for i in author_list]"
   ]
  },
  {
   "cell_type": "code",
   "execution_count": 43,
   "metadata": {},
   "outputs": [],
   "source": [
    "author_vectors = vectorizer.fit_transform(author_list)"
   ]
  },
  {
   "cell_type": "code",
   "execution_count": null,
   "metadata": {},
   "outputs": [],
   "source": [
    "X = []\n",
    "y = []\n",
    "for i in range(len(data.index)):\n",
    "    for j in range(i):\n",
    "        if data.loc[i,\"Unique Author ID\"] == data.loc[j, \"Unique Author ID\"]:\n",
    "            y.append(1)\n",
    "        else:\n",
    "            y.append(0)\n",
    "        similarity_vector = []\n",
    "        similarity_vector.append(cosine(author_vectors[i], author_vectors[j])[0][0])\n",
    "        similarity_vector.append(cosine(title_vectors[i], title_vectors[j])[0][0])\n",
    "        similarity_vector.append(cosine(venue_vectors[i], venue_vectors[j])[0][0])\n",
    "        similarity_vector.append(diff_gaussian(data[\"Year\"][i], data[\"Year\"][j]))\n",
    "        X.append(similarity_vector)"
   ]
  },
  {
   "cell_type": "code",
   "execution_count": null,
   "metadata": {},
   "outputs": [],
   "source": [
    "print(len(data.index))"
   ]
  },
  {
   "cell_type": "code",
   "execution_count": null,
   "metadata": {},
   "outputs": [],
   "source": []
  }
 ],
 "metadata": {
  "kernelspec": {
   "display_name": "FOML",
   "language": "python",
   "name": "foml"
  },
  "language_info": {
   "codemirror_mode": {
    "name": "ipython",
    "version": 3
   },
   "file_extension": ".py",
   "mimetype": "text/x-python",
   "name": "python",
   "nbconvert_exporter": "python",
   "pygments_lexer": "ipython3",
   "version": "3.6.8"
  }
 },
 "nbformat": 4,
 "nbformat_minor": 4
}
